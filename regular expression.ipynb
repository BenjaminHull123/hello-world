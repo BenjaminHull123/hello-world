{
 "cells": [
  {
   "cell_type": "code",
   "execution_count": 28,
   "metadata": {},
   "outputs": [],
   "source": [
    "import re\n",
    "text_to_search=\"\"\"\n",
    "abcdefghijklmnopqrstuvwxyz\n",
    "ABCDEFGHIJKLMNOPQRSTUVWXYZ\n",
    "0123456789\n",
    "\n",
    "Ha HaHa\n",
    "\n",
    "Metacharacters (Need to be escaped):\n",
    ". ^ $ * + ? {} [] \\ | ()\n",
    "\n",
    "coreyms.com\n",
    "\n",
    "321-555-4321\n",
    "123.555.1234\n",
    "\n",
    "Mr. Schafer\n",
    "Mr smith\n",
    "ms Davis\n",
    "mrs. Robinson\n",
    "Mr. T\n",
    "\"\"\"\n",
    "sentence= \"start a sentecne and then bring it ot an end\""
   ]
  },
  {
   "cell_type": "code",
   "execution_count": 29,
   "metadata": {},
   "outputs": [
    {
     "name": "stdout",
     "output_type": "stream",
     "text": [
      "\ttab\n",
      "\\ttab\n"
     ]
    }
   ],
   "source": [
    "print(\"\\ttab\")\n",
    "print(r\"\\ttab\")\n",
    "# becasue \\t means indentation,talbe, newline\n",
    "# r means tell python don't handle backslash with special way"
   ]
  },
  {
   "cell_type": "code",
   "execution_count": 31,
   "metadata": {},
   "outputs": [
    {
     "name": "stdout",
     "output_type": "stream",
     "text": [
      "<re.Match object; span=(1, 4), match='abc'>\n",
      "abc\n"
     ]
    }
   ],
   "source": [
    "pattern=re.compile(r'abc')\n",
    "\n",
    "matches=pattern.finditer(text_to_search)\n",
    "\n",
    "for match in matches:\n",
    "    print(match)\n",
    "print(text_to_search[1:4])\n",
    "#以一种模式来查询一个值，并返回他在string中的位置\n",
    "#if pattern=re.compile(r\"cba\"), nothing will come out\n",
    "#pattern=re.compile(r'.')\n",
    "#output will be as followed\n",
    "# <re.Match object; span=(0, 1), match='a'>\n",
    "# <re.Match object; span=(1, 2), match='b'>\n",
    "# <re.Match object; span=(2, 3), match='c'>\n",
    "# <re.Match object; span=(3, 4), match='d'>"
   ]
  },
  {
   "cell_type": "code",
   "execution_count": 21,
   "metadata": {},
   "outputs": [
    {
     "name": "stdout",
     "output_type": "stream",
     "text": [
      "Help on function compile in module re:\n",
      "\n",
      "compile(pattern, flags=0)\n",
      "    Compile a regular expression pattern, returning a Pattern object.\n",
      "\n"
     ]
    }
   ],
   "source": [
    "help(re.compile)"
   ]
  },
  {
   "cell_type": "code",
   "execution_count": 18,
   "metadata": {},
   "outputs": [
    {
     "data": {
      "text/plain": [
       "<callable_iterator at 0x56cc6a0>"
      ]
     },
     "execution_count": 18,
     "metadata": {},
     "output_type": "execute_result"
    }
   ],
   "source": [
    "re.finditer(r'\\w','http://www.hackerrank.com/')"
   ]
  },
  {
   "cell_type": "code",
   "execution_count": 32,
   "metadata": {},
   "outputs": [
    {
     "name": "stdout",
     "output_type": "stream",
     "text": [
      "<re.Match object; span=(113, 114), match='.'>\n",
      "<re.Match object; span=(146, 147), match='.'>\n",
      "<re.Match object; span=(168, 169), match='.'>\n",
      "<re.Match object; span=(172, 173), match='.'>\n",
      "<re.Match object; span=(181, 182), match='.'>\n",
      "<re.Match object; span=(212, 213), match='.'>\n",
      "<re.Match object; span=(225, 226), match='.'>\n"
     ]
    }
   ],
   "source": [
    "pattern=re.compile(r'\\.')\n",
    "\n",
    "matches=pattern.finditer(text_to_search)\n",
    "\n",
    "for match in matches:\n",
    "    print(match)\n",
    "#when use speical character \n",
    "#have to use backslash \\ before them"
   ]
  },
  {
   "cell_type": "code",
   "execution_count": 33,
   "metadata": {},
   "outputs": [
    {
     "name": "stdout",
     "output_type": "stream",
     "text": [
      "<re.Match object; span=(139, 150), match='coreyms.com'>\n"
     ]
    }
   ],
   "source": [
    "pattern=re.compile(r'coreyms\\.com')\n",
    "\n",
    "matches=pattern.finditer(text_to_search)\n",
    "\n",
    "for match in matches:\n",
    "    print(match)"
   ]
  },
  {
   "cell_type": "code",
   "execution_count": 38,
   "metadata": {},
   "outputs": [
    {
     "name": "stdout",
     "output_type": "stream",
     "text": [
      "None\n"
     ]
    }
   ],
   "source": [
    "p=re.compile(r'\\bdeclassified\\b')\n",
    "print(p.search('no class at all'))"
   ]
  },
  {
   "cell_type": "code",
   "execution_count": 42,
   "metadata": {},
   "outputs": [
    {
     "name": "stdout",
     "output_type": "stream",
     "text": [
      "[]\n"
     ]
    }
   ],
   "source": [
    "str=\"The rain in Spain ain\"\n",
    "x=re.findall(r'\\bain',str)\n",
    "print(x)"
   ]
  },
  {
   "cell_type": "code",
   "execution_count": 77,
   "metadata": {},
   "outputs": [
    {
     "name": "stdout",
     "output_type": "stream",
     "text": [
      "['ai', 'ai']\n"
     ]
    }
   ],
   "source": [
    "str=\"The rain in Spain ain\"\n",
    "x=re.findall(r'\\Bai\\B',str)\n",
    "print(x)"
   ]
  },
  {
   "cell_type": "code",
   "execution_count": 75,
   "metadata": {},
   "outputs": [
    {
     "name": "stdout",
     "output_type": "stream",
     "text": [
      "[]\n"
     ]
    }
   ],
   "source": [
    "str=\"the rain in spain ain\"\n",
    "x=re.findall(r'\\bain\\B',str)\n",
    "print(x)\n",
    "#think of that way, \\bxx\\b means single word don't have\n",
    "#anything else but itself.\n",
    "#\\bxx meaning xxxyyy\n",
    "#xx\\b meaing yyyxxx\n",
    "#\\bxx\\b meaning xx"
   ]
  },
  {
   "cell_type": "code",
   "execution_count": 74,
   "metadata": {},
   "outputs": [
    {
     "name": "stdout",
     "output_type": "stream",
     "text": [
      "<re.Match object; span=(67, 69), match='Ha'>\n",
      "<re.Match object; span=(72, 74), match='Ha'>\n"
     ]
    }
   ],
   "source": [
    "#here you can input and metacharacters with regular expreesion\n",
    "#see the different \n",
    "# \\b -word boundary \n",
    "# \\B -not a word boundary\n",
    "# ^ -beginning of a string \n",
    "# $ -end of a string\n",
    "# [] -matches characters in brackets\n",
    "# [^] -matches characters not in brackets\n",
    "pattern=re.compile(r'\\b')\n",
    "\n",
    "matches=pattern.finditer(text_to_search)\n",
    "\n",
    "for match in matches:\n",
    "    print(match)"
   ]
  },
  {
   "cell_type": "code",
   "execution_count": null,
   "metadata": {},
   "outputs": [],
   "source": []
  }
 ],
 "metadata": {
  "kernelspec": {
   "display_name": "Python 3",
   "language": "python",
   "name": "python3"
  },
  "language_info": {
   "codemirror_mode": {
    "name": "ipython",
    "version": 3
   },
   "file_extension": ".py",
   "mimetype": "text/x-python",
   "name": "python",
   "nbconvert_exporter": "python",
   "pygments_lexer": "ipython3",
   "version": "3.7.1"
  }
 },
 "nbformat": 4,
 "nbformat_minor": 2
}
